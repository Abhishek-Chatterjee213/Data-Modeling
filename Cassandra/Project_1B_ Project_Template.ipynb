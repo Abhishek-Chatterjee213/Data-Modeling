{
 "cells": [
  {
   "cell_type": "markdown",
   "metadata": {
    "editable": true
   },
   "source": [
    "# Part I. ETL Pipeline for Pre-Processing the Files"
   ]
  },
  {
   "cell_type": "markdown",
   "metadata": {
    "editable": true
   },
   "source": [
    "## PLEASE RUN THE FOLLOWING CODE FOR PRE-PROCESSING THE FILES"
   ]
  },
  {
   "cell_type": "markdown",
   "metadata": {
    "editable": true
   },
   "source": [
    "#### Import Python packages "
   ]
  },
  {
   "cell_type": "code",
   "execution_count": 1,
   "metadata": {
    "editable": true
   },
   "outputs": [],
   "source": [
    "# Import Python packages \n",
    "import pandas as pd\n",
    "import cassandra\n",
    "import re\n",
    "import os\n",
    "import glob\n",
    "import numpy as np\n",
    "import json\n",
    "import csv"
   ]
  },
  {
   "cell_type": "markdown",
   "metadata": {
    "editable": true
   },
   "source": [
    "#### Creating list of filepaths to process original event csv data files"
   ]
  },
  {
   "cell_type": "code",
   "execution_count": 2,
   "metadata": {
    "editable": true
   },
   "outputs": [
    {
     "name": "stdout",
     "output_type": "stream",
     "text": [
      "/home/workspace\n"
     ]
    }
   ],
   "source": [
    "# checking your current working directory\n",
    "print(os.getcwd())\n",
    "\n",
    "# Get your current folder and subfolder event data\n",
    "filepath = os.getcwd() + '/event_data'\n",
    "\n",
    "# Create a for loop to create a list of files and collect each filepath\n",
    "for root, dirs, files in os.walk(filepath):\n",
    "    \n",
    "# join the file path and roots with the subdirectories using glob\n",
    "    file_path_list = glob.glob(os.path.join(root,'*'))\n",
    "    #print(file_path_list)"
   ]
  },
  {
   "cell_type": "markdown",
   "metadata": {
    "editable": true
   },
   "source": [
    "#### Processing the files to create the data file csv that will be used for Apache Casssandra tables"
   ]
  },
  {
   "cell_type": "code",
   "execution_count": 3,
   "metadata": {
    "editable": true
   },
   "outputs": [],
   "source": [
    "# initiating an empty list of rows that will be generated from each file\n",
    "full_data_rows_list = [] \n",
    "    \n",
    "# for every filepath in the file path list \n",
    "for f in file_path_list:\n",
    "\n",
    "# reading csv file \n",
    "    with open(f, 'r', encoding = 'utf8', newline='') as csvfile: \n",
    "        # creating a csv reader object \n",
    "        csvreader = csv.reader(csvfile) \n",
    "        next(csvreader)\n",
    "        \n",
    " # extracting each data row one by one and append it        \n",
    "        for line in csvreader:\n",
    "            #print(line)\n",
    "            full_data_rows_list.append(line) \n",
    "            \n",
    "\n",
    "# creating a smaller event data csv file called event_datafile_full csv that will be used to insert data into the \\\n",
    "# Apache Cassandra tables\n",
    "csv.register_dialect('myDialect', quoting=csv.QUOTE_ALL, skipinitialspace=True)\n",
    "\n",
    "with open('event_datafile_new.csv', 'w', encoding = 'utf8', newline='') as f:\n",
    "    writer = csv.writer(f, dialect='myDialect')\n",
    "    writer.writerow(['artist','firstName','gender','itemInSession','lastName','length',\\\n",
    "                'level','location','sessionId','song','userId'])\n",
    "    for row in full_data_rows_list:\n",
    "        if (row[0] == ''):\n",
    "            continue\n",
    "        writer.writerow((row[0], row[2], row[3], row[4], row[5], row[6], row[7], row[8], row[12], row[13], row[16]))\n"
   ]
  },
  {
   "cell_type": "code",
   "execution_count": 4,
   "metadata": {
    "editable": true
   },
   "outputs": [
    {
     "name": "stdout",
     "output_type": "stream",
     "text": [
      "6821\n"
     ]
    }
   ],
   "source": [
    "# check the number of rows in your csv file\n",
    "with open('event_datafile_new.csv', 'r', encoding = 'utf8') as f:\n",
    "    print(sum(1 for line in f))"
   ]
  },
  {
   "cell_type": "markdown",
   "metadata": {
    "editable": true
   },
   "source": [
    "# Part II. Complete the Apache Cassandra coding portion of your project. \n",
    "\n",
    "## Now you are ready to work with the CSV file titled <font color=red>event_datafile_new.csv</font>, located within the Workspace directory.  The event_datafile_new.csv contains the following columns: \n",
    "- artist \n",
    "- firstName of user\n",
    "- gender of user\n",
    "- item number in session\n",
    "- last name of user\n",
    "- length of the song\n",
    "- level (paid or free song)\n",
    "- location of the user\n",
    "- sessionId\n",
    "- song title\n",
    "- userId\n",
    "\n",
    "The image below is a screenshot of what the denormalized data should appear like in the <font color=red>**event_datafile_new.csv**</font> after the code above is run:<br>\n",
    "\n",
    "<img src=\"images/image_event_datafile_new.jpg\">"
   ]
  },
  {
   "cell_type": "markdown",
   "metadata": {
    "editable": true
   },
   "source": [
    "## Begin writing your Apache Cassandra code in the cells below"
   ]
  },
  {
   "cell_type": "markdown",
   "metadata": {
    "editable": true
   },
   "source": [
    "#### Creating a Cluster"
   ]
  },
  {
   "cell_type": "code",
   "execution_count": 5,
   "metadata": {
    "editable": true
   },
   "outputs": [],
   "source": [
    "# This should make a connection to a Cassandra instance your local machine \n",
    "# (127.0.0.1)\n",
    "\n",
    "from cassandra.cluster import Cluster\n",
    "cluster = Cluster()\n",
    "\n",
    "# To establish connection and begin executing queries, need a session\n",
    "session = cluster.connect()"
   ]
  },
  {
   "cell_type": "markdown",
   "metadata": {
    "editable": true
   },
   "source": [
    "#### Create Keyspace"
   ]
  },
  {
   "cell_type": "code",
   "execution_count": 6,
   "metadata": {
    "editable": true
   },
   "outputs": [],
   "source": [
    "# Create keyspace\n",
    "try:\n",
    "    session.execute(\"Create keyspace IF NOT EXISTS event WITH replication = {'class': 'SimpleStrategy', 'replication_factor' : 1}\")\n",
    "except Exception as ex:\n",
    "    print(f\"Error occured in creating keyspace{str(ex)}\")"
   ]
  },
  {
   "cell_type": "markdown",
   "metadata": {
    "editable": true
   },
   "source": [
    "#### Set Keyspace"
   ]
  },
  {
   "cell_type": "code",
   "execution_count": 7,
   "metadata": {
    "editable": true
   },
   "outputs": [],
   "source": [
    "# Set the newly created keyspace as default keyspace for current session\n",
    "try:\n",
    "    session.set_keyspace(\"event\")\n",
    "except Exception as ex:\n",
    "    print(f\"Error occured in setting keyspace{str(ex)}\")"
   ]
  },
  {
   "cell_type": "markdown",
   "metadata": {
    "editable": true
   },
   "source": [
    "#### In order to find details for a particular sessionId & itemInSession we need to create a table with primary key sessionId & clustering column itemInSession\n",
    "\n",
    "##### Lets call the table session_song with column sessionId, artist, song_title, song_length with the aforesaid primary key & clustering columns.\n",
    "                   "
   ]
  },
  {
   "cell_type": "code",
   "execution_count": 8,
   "metadata": {
    "editable": true
   },
   "outputs": [
    {
     "name": "stdout",
     "output_type": "stream",
     "text": [
      "Table session_song created successfully!!\n"
     ]
    }
   ],
   "source": [
    "try:\n",
    "    session.execute(\"\"\"CREATE TABLE IF NOT EXISTS session_song (session_id int, item_in_session int, artist Text, song_title Text, song_length float, PRIMARY KEY (session_id, item_in_session))\"\"\")\n",
    "    print(\"Table session_song created successfully!!\")\n",
    "except Exception as ex:\n",
    "    print(f\"Error creating table {str(ex)}\")"
   ]
  },
  {
   "cell_type": "code",
   "execution_count": 9,
   "metadata": {
    "editable": true
   },
   "outputs": [
    {
     "name": "stdout",
     "output_type": "stream",
     "text": [
      "Loading data to cassandra\n",
      "Data loading completed\n"
     ]
    }
   ],
   "source": [
    "file = 'event_datafile_new.csv'\n",
    "\n",
    "with open(file, encoding = 'utf8') as f:\n",
    "    csvreader = csv.reader(f)\n",
    "    next(csvreader) # skip header\n",
    "    count = 0\n",
    "    print(\"Loading data to cassandra\")\n",
    "    for line in csvreader:\n",
    "        # Prepare insert query\n",
    "        query = \"Insert into session_song (session_id, item_in_session, artist, song_title, song_length)\"\n",
    "        query = query + \" VALUES (%s,%s,%s,%s,%s)\"\n",
    "        # Break line elements into individual variables to use in insert statement\n",
    "        artist, first_name,gender,item_in_session,last_name,length,level,location,session_id,song,user_id = line\n",
    "        try:\n",
    "            session.execute(query, (int(session_id), int(item_in_session),artist,song, float(length)))\n",
    "            count += 1\n",
    "        except Exception as ex:\n",
    "            count += 1\n",
    "            print(f\"Error inserting row #{count} {str(ex)}\")\n",
    "print(\"Data loading completed\")"
   ]
  },
  {
   "cell_type": "markdown",
   "metadata": {
    "editable": true
   },
   "source": [
    "#### Do a SELECT to verify that the data have been inserted into each table"
   ]
  },
  {
   "cell_type": "code",
   "execution_count": 10,
   "metadata": {
    "editable": true,
    "scrolled": true
   },
   "outputs": [
    {
     "name": "stdout",
     "output_type": "stream",
     "text": [
      "Executing select query to test the data model as per given query\n",
      "artist_name\tsong_title\tsong_length\n",
      "Faithless \tMusic Matters (Mark Knight Dub)\t495.30731201171875\n"
     ]
    }
   ],
   "source": [
    "print(\"Executing select query to test the data model as per given query\")\n",
    "res = session.execute(\"select artist,song_title,song_length from session_song where session_id = 338 and item_in_session = 4\")\n",
    "\n",
    "# Add header for the output row\n",
    "\n",
    "print(\"artist_name\\tsong_title\\tsong_length\")\n",
    "for r in res:\n",
    "    print(r.artist,\"\\t\" + r.song_title + \"\\t\" + str(r.song_length))"
   ]
  },
  {
   "cell_type": "markdown",
   "metadata": {
    "editable": true
   },
   "source": [
    "###### In order to find details for a particular userId & sessionId we need to create a table with primary key sessionId & userId and to sort with itemInSession that will become its clustering column.\n",
    "\n",
    "###### Lets call the table user_session with column artist, song_title, first_name, last_name with the aforesaid primary key & clustering columns."
   ]
  },
  {
   "cell_type": "code",
   "execution_count": 11,
   "metadata": {
    "editable": true
   },
   "outputs": [
    {
     "name": "stdout",
     "output_type": "stream",
     "text": [
      "Table user_session created successfully!!\n",
      "Loading data in cassandra\n",
      "Data loading completed\n",
      "Executing select query to test the data model as per given query\n",
      "item_in_session\tartist_name\tsong_title\tfirst_name\tlast_name\n",
      "0\tDown To The Bone\tKeep On Keepin' On\tSylvie\tCruz\n",
      "1\tThree Drives\tGreece 2000\tSylvie\tCruz\n",
      "2\tSebastien Tellier\tKilometer\tSylvie\tCruz\n",
      "3\tLonnie Gordon\tCatch You Baby (Steve Pitron & Max Sanna Radio Edit)\tSylvie\tCruz\n"
     ]
    }
   ],
   "source": [
    "try:\n",
    "    session.execute(\"\"\"CREATE TABLE IF NOT EXISTS user_session (user_id int, session_id int, item_in_session int, artist Text, song_title Text, first_name Text, last_name Text, PRIMARY KEY ((user_id, session_id), item_in_session))\"\"\")\n",
    "    print(\"Table user_session created successfully!!\")\n",
    "except Exception as ex:\n",
    "    print(f\"Error creating table {str(ex)}\")\n",
    "\n",
    "file = 'event_datafile_new.csv'\n",
    "\n",
    "with open(file, encoding = 'utf8') as f:\n",
    "    csvreader = csv.reader(f)\n",
    "    next(csvreader) # skip header\n",
    "    count = 0\n",
    "    print(\"Loading data in cassandra\")\n",
    "    for line in csvreader:\n",
    "        query = \"Insert into user_session (user_id, session_id, item_in_session, artist, song_title, first_name, last_name)\"\n",
    "        query = query + \" VALUES (%s,%s,%s,%s,%s,%s,%s)\"\n",
    "        # Break line elements into individual variables to use in insert statement\n",
    "        artist, first_name,gender,item_in_session,last_name,length,level,location,session_id,song,user_id = line\n",
    "        try:\n",
    "            session.execute(query, (int(user_id),int(session_id), int(item_in_session), artist,song, first_name, last_name))\n",
    "            count += 1\n",
    "        except Exception as ex:\n",
    "            count += 1\n",
    "            print(f\"Error inserting row #{count} {str(ex)}\")\n",
    "print(\"Data loading completed\")\n",
    "print(\"Executing select query to test the data model as per given query\") \n",
    "\n",
    "# Add header for output rows \n",
    "\n",
    "print(\"item_in_session\\tartist_name\\tsong_title\\tfirst_name\\tlast_name\")\n",
    "res = session.execute(\"select item_in_session, artist, song_title, first_name, last_name from user_session where user_id = 10 and session_id=182\")\n",
    "for r in res:\n",
    "    print(str(r.item_in_session) +\"\\t\" + r.artist + \"\\t\" + r.song_title + \"\\t\" + r.first_name +\"\\t\" + r.last_name)"
   ]
  },
  {
   "cell_type": "markdown",
   "metadata": {
    "editable": true
   },
   "source": [
    "###### In order to find details for a particular song we need to create a table with primary key song & will sort by userId by setting this as its clustering column.\n",
    "\n",
    "######## Lets call the table user_history with column first_name, last_name with the aforesaid primary key & clustering columns."
   ]
  },
  {
   "cell_type": "code",
   "execution_count": 12,
   "metadata": {
    "editable": true
   },
   "outputs": [
    {
     "name": "stdout",
     "output_type": "stream",
     "text": [
      "Table user_history created successfully!!\n",
      "Loading data in cassandra\n",
      "Data loading completed\n",
      "Executing select query to test the data model as per given query\n",
      "first_name\tlast_name\n",
      "Jacqueline\tLynch\n",
      "Tegan\tLevine\n",
      "Sara\tJohnson\n"
     ]
    }
   ],
   "source": [
    "try:\n",
    "    session.execute(\"\"\"CREATE TABLE IF NOT EXISTS user_history (song_title Text, user_id int, first_name Text, last_name Text, PRIMARY KEY (song_title, user_id))\"\"\")\n",
    "    print(\"Table user_history created successfully!!\")\n",
    "except Exception as ex:\n",
    "    print(f\"Error creating table {str(ex)}\")\n",
    "    \n",
    "file = 'event_datafile_new.csv'\n",
    "\n",
    "with open(file, encoding = 'utf8') as f:\n",
    "    csvreader = csv.reader(f)\n",
    "    next(csvreader) # skip header\n",
    "    count = 0\n",
    "    print(\"Loading data in cassandra\")\n",
    "    for line in csvreader:\n",
    "        query = \"Insert into user_history (song_title, user_id, first_name, last_name)\"\n",
    "        query = query + \" VALUES (%s,%s,%s,%s)\"\n",
    "        artist, first_name,gender,item_in_session,last_name,length,level,location,session_id,song,user_id = line\n",
    "        try:\n",
    "            session.execute(query, (song, int(user_id), first_name , last_name))\n",
    "            count += 1\n",
    "        except Exception as ex:\n",
    "            count += 1\n",
    "            print(f\"Error inserting row #{count} {str(ex)}\")\n",
    "print(\"Data loading completed\")\n",
    "print(\"Executing select query to test the data model as per given query\")\n",
    "res = session.execute(\"select first_name, last_name from user_history where song_title='All Hands Against His Own'\")\n",
    "# Add header row for the output rows\n",
    "print(\"first_name\\tlast_name\")\n",
    "for r in res:\n",
    "    print(r.first_name +\"\\t\" + r.last_name)"
   ]
  },
  {
   "cell_type": "markdown",
   "metadata": {
    "editable": true
   },
   "source": [
    "### Drop the tables before closing out the sessions"
   ]
  },
  {
   "cell_type": "code",
   "execution_count": 13,
   "metadata": {
    "editable": true
   },
   "outputs": [
    {
     "data": {
      "text/plain": [
       "<cassandra.cluster.ResultSet at 0x7f37675cef28>"
      ]
     },
     "execution_count": 13,
     "metadata": {},
     "output_type": "execute_result"
    }
   ],
   "source": [
    "session.execute(\"DROP TABLE session_song\")\n",
    "session.execute(\"DROP TABLE user_session\")\n",
    "session.execute(\"DROP TABLE user_history\")\n",
    "session.execute(\"DROP keyspace event\")"
   ]
  },
  {
   "cell_type": "markdown",
   "metadata": {
    "editable": true
   },
   "source": [
    "### Close the session and cluster connection"
   ]
  },
  {
   "cell_type": "code",
   "execution_count": 14,
   "metadata": {
    "editable": true
   },
   "outputs": [],
   "source": [
    "session.shutdown()\n",
    "cluster.shutdown()"
   ]
  },
  {
   "cell_type": "code",
   "execution_count": null,
   "metadata": {
    "editable": true
   },
   "outputs": [],
   "source": []
  }
 ],
 "metadata": {
  "kernelspec": {
   "display_name": "Python 3",
   "language": "python",
   "name": "python3"
  },
  "language_info": {
   "codemirror_mode": {
    "name": "ipython",
    "version": 3
   },
   "file_extension": ".py",
   "mimetype": "text/x-python",
   "name": "python",
   "nbconvert_exporter": "python",
   "pygments_lexer": "ipython3",
   "version": "3.6.3"
  }
 },
 "nbformat": 4,
 "nbformat_minor": 4
}
